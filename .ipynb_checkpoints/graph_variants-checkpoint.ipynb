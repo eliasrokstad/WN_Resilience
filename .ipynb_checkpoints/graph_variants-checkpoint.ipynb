{
 "cells": [
  {
   "cell_type": "code",
   "execution_count": 5,
   "metadata": {},
   "outputs": [],
   "source": [
    "import pandas as pd\n",
    "import wntr\n",
    "import networkx as nx\n",
    "import matplotlib.pyplot as plt\n",
    "import os\n",
    "import seaborn as sns\n",
    "\n",
    "def get_graph(idx):\n",
    "    wn = wntr.network.WaterNetworkModel(f'variants/variant_{idx}.inp')\n",
    "    graph = wn.get_graph().to_undirected()\n",
    "\n",
    "    pos = dict()\n",
    "    for name in wn.node_name_list:\n",
    "            node = wn.get_node(name)\n",
    "            pos[name] = node.coordinates\n",
    "    return graph, pos\n"
   ]
  },
  {
   "cell_type": "code",
   "execution_count": 4,
   "metadata": {},
   "outputs": [],
   "source": [
    "resilience = pd.read_csv('results/resilience_normal.csv', index_col=0)\n",
    "attributes = pd.read_csv('results/attributes_normal.csv', index_col=0)"
   ]
  },
  {
   "cell_type": "code",
   "execution_count": null,
   "metadata": {},
   "outputs": [],
   "source": [
    "G = "
   ]
  }
 ],
 "metadata": {
  "kernelspec": {
   "display_name": "Python 3 (ipykernel)",
   "language": "python",
   "name": "python3"
  },
  "language_info": {
   "codemirror_mode": {
    "name": "ipython",
    "version": 3
   },
   "file_extension": ".py",
   "mimetype": "text/x-python",
   "name": "python",
   "nbconvert_exporter": "python",
   "pygments_lexer": "ipython3",
   "version": "3.8.0"
  }
 },
 "nbformat": 4,
 "nbformat_minor": 1
}
